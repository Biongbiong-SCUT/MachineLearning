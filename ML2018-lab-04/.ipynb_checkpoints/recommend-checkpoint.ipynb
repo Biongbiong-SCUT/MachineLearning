{
 "cells": [
  {
   "cell_type": "code",
   "execution_count": 14,
   "metadata": {},
   "outputs": [],
   "source": [
    "import pandas as pd\n",
    "import numpy as np\n",
    "import matplotlib.pyplot as plt\n",
    "import os\n",
    "from sklearn.model_selection import train_test_split"
   ]
  },
  {
   "cell_type": "code",
   "execution_count": 15,
   "metadata": {},
   "outputs": [],
   "source": [
    "dir_path = './ml-100k/'"
   ]
  },
  {
   "cell_type": "code",
   "execution_count": null,
   "metadata": {},
   "outputs": [],
   "source": []
  },
  {
   "cell_type": "code",
   "execution_count": 16,
   "metadata": {},
   "outputs": [],
   "source": [
    "df_user = pd.read_csv(dir_path+'u.user', sep='|', names=['user_id' ,'age' , 'gender' , 'occupation', 'zip_code'])"
   ]
  },
  {
   "cell_type": "code",
   "execution_count": 17,
   "metadata": {},
   "outputs": [],
   "source": [
    "df_item = pd.read_csv(dir_path+'u.item', sep='|', names=['movie id','movie title', 'release date', 'video release date',\n",
    "              'IMDb URL', 'unknown', 'Action', 'Adventure', 'Animation',\n",
    "              'Children\\'s', 'Comedy', 'Crime', 'Documentary', 'Drama','Fantasy',\n",
    "              'Film-Noir', 'Horror', 'Musical', 'Mystery', 'Romance', 'Sci-Fi', 'Thriller', 'War','Western'], encoding='latin-1')"
   ]
  },
  {
   "cell_type": "code",
   "execution_count": 18,
   "metadata": {},
   "outputs": [
    {
     "data": {
      "text/plain": [
       "Index(['movie id', 'movie title', 'release date', 'video release date',\n",
       "       'IMDb URL', 'unknown', 'Action', 'Adventure', 'Animation', 'Children's',\n",
       "       'Comedy', 'Crime', 'Documentary', 'Drama', 'Fantasy', 'Film-Noir',\n",
       "       'Horror', 'Musical', 'Mystery', 'Romance', 'Sci-Fi', 'Thriller', 'War',\n",
       "       'Western'],\n",
       "      dtype='object')"
      ]
     },
     "execution_count": 18,
     "metadata": {},
     "output_type": "execute_result"
    }
   ],
   "source": [
    "df_item.columns"
   ]
  },
  {
   "cell_type": "code",
   "execution_count": 19,
   "metadata": {},
   "outputs": [],
   "source": [
    "header = ['user_id', 'item_id', 'rating', 'timestamp']\n",
    "df_data = pd.read_csv(dir_path+'u.data', sep='\\t', names=header)"
   ]
  },
  {
   "cell_type": "code",
   "execution_count": 20,
   "metadata": {},
   "outputs": [],
   "source": [
    "df_train, df_test = train_test_split(df_data, test_size=0.25, random_state=136)"
   ]
  },
  {
   "cell_type": "code",
   "execution_count": 21,
   "metadata": {},
   "outputs": [],
   "source": [
    "df_train_data = df_train.set_index(['user_id','item_id'])['rating'].unstack().fillna(0)"
   ]
  },
  {
   "cell_type": "code",
   "execution_count": 22,
   "metadata": {},
   "outputs": [],
   "source": [
    "df_test_data = df_test.set_index(['user_id','item_id'])['rating'].unstack().fillna(0)"
   ]
  },
  {
   "cell_type": "markdown",
   "metadata": {},
   "source": [
    "# 标题 \n",
    "## 二级列表\n",
    "$M = PQ^T$"
   ]
  },
  {
   "cell_type": "markdown",
   "metadata": {},
   "source": [
    "1. 选定一个K值 一般在 10 ~ 30 之间然后对矩阵进行分解\n",
    "2. 初始化矩阵 $M = PQ^{T}$\n",
    "2. 用户对于每个item 的潜在评分可以表示为 $y_{u, i} = u_u * v_{i}^T$\n"
   ]
  },
  {
   "cell_type": "code",
   "execution_count": 51,
   "metadata": {},
   "outputs": [],
   "source": []
  },
  {
   "cell_type": "code",
   "execution_count": 52,
   "metadata": {},
   "outputs": [
    {
     "name": "stdout",
     "output_type": "stream",
     "text": [
      "(943, 20)\n",
      "(1642, 20)\n"
     ]
    }
   ],
   "source": []
  },
  {
   "cell_type": "code",
   "execution_count": 53,
   "metadata": {},
   "outputs": [
    {
     "data": {
      "text/plain": [
       "array([[5., 5., 5., ..., 5., 5., 5.],\n",
       "       [5., 5., 5., ..., 5., 5., 5.],\n",
       "       [5., 5., 5., ..., 5., 5., 5.],\n",
       "       ...,\n",
       "       [5., 5., 5., ..., 5., 5., 5.],\n",
       "       [5., 5., 5., ..., 5., 5., 5.],\n",
       "       [5., 5., 5., ..., 5., 5., 5.]])"
      ]
     },
     "execution_count": 53,
     "metadata": {},
     "output_type": "execute_result"
    }
   ],
   "source": []
  },
  {
   "cell_type": "code",
   "execution_count": 54,
   "metadata": {},
   "outputs": [
    {
     "data": {
      "text/plain": [
       "array([[5., 3., 4., ..., 0., 0., 0.],\n",
       "       [4., 0., 0., ..., 0., 0., 0.],\n",
       "       [0., 0., 0., ..., 0., 0., 0.],\n",
       "       ...,\n",
       "       [5., 0., 0., ..., 0., 0., 0.],\n",
       "       [0., 0., 0., ..., 0., 0., 0.],\n",
       "       [0., 5., 0., ..., 0., 0., 0.]])"
      ]
     },
     "execution_count": 54,
     "metadata": {},
     "output_type": "execute_result"
    }
   ],
   "source": [
    "y"
   ]
  },
  {
   "cell_type": "code",
   "execution_count": 55,
   "metadata": {},
   "outputs": [],
   "source": []
  },
  {
   "cell_type": "code",
   "execution_count": 56,
   "metadata": {},
   "outputs": [],
   "source": []
  },
  {
   "cell_type": "code",
   "execution_count": 57,
   "metadata": {},
   "outputs": [
    {
     "data": {
      "text/plain": [
       "array([[ 0., -2., -1., ..., -5., -5., -5.],\n",
       "       [-1., -5., -5., ..., -5., -5., -5.],\n",
       "       [-5., -5., -5., ..., -5., -5., -5.],\n",
       "       ...,\n",
       "       [ 0., -5., -5., ..., -5., -5., -5.],\n",
       "       [-5., -5., -5., ..., -5., -5., -5.],\n",
       "       [-5.,  0., -5., ..., -5., -5., -5.]])"
      ]
     },
     "execution_count": 57,
     "metadata": {},
     "output_type": "execute_result"
    }
   ],
   "source": []
  },
  {
   "cell_type": "code",
   "execution_count": 58,
   "metadata": {},
   "outputs": [
    {
     "data": {
      "text/plain": [
       "array([[ 0., -2., -1., ...,  0.,  0.,  0.],\n",
       "       [-1.,  0.,  0., ...,  0.,  0.,  0.],\n",
       "       [ 0.,  0.,  0., ...,  0.,  0.,  0.],\n",
       "       ...,\n",
       "       [ 0.,  0.,  0., ...,  0.,  0.,  0.],\n",
       "       [ 0.,  0.,  0., ...,  0.,  0.,  0.],\n",
       "       [ 0.,  0.,  0., ...,  0.,  0.,  0.]])"
      ]
     },
     "execution_count": 58,
     "metadata": {},
     "output_type": "execute_result"
    }
   ],
   "source": []
  },
  {
   "cell_type": "code",
   "execution_count": 59,
   "metadata": {},
   "outputs": [],
   "source": [
    "# gradient u\n",
    "np.matmul(error, matrix_v).shape\n",
    "# gradient v\n",
    "np.matmul(error.transpose(), matrix_u).shape\n",
    "\n",
    "partial_u = np.matmul(error, matrix_v)\n",
    "partial_v = np.matmul(error.transpose(), matrix_u)"
   ]
  },
  {
   "cell_type": "code",
   "execution_count": null,
   "metadata": {},
   "outputs": [
    {
     "name": "stdout",
     "output_type": "stream",
     "text": [
      "(943, 20)\n",
      "(1642, 20)\n"
     ]
    }
   ],
   "source": [
    "loss_val = []\n",
    "loss_test = []\n",
    "# initial\n",
    "# 选定k = 15\n",
    "k = 20\n",
    "n_user, n_item = df_train_data.shape\n",
    "matrix_u = np.ones(shape=(n_user, k)) * 0.5\n",
    "matrix_v = np.ones(shape=(n_item, k)) * 0.5\n",
    "print(matrix_u.shape)\n",
    "print(matrix_v.shape)\n",
    "\n",
    "\n",
    "\n",
    "for epoch in range(400+1):\n",
    "    # hypothesis\n",
    "    y_hypothesis = np.matmul(matrix_u, matrix_v.transpose())\n",
    "    # compute gradient \n",
    "    error = -(y-y_hypothesis)\n",
    "    error = np.where(y == 0, 0, error)\n",
    "    partial_u = np.matmul(error, matrix_v)\n",
    "    partial_v = np.matmul(error.transpose(), matrix_u)\n",
    "    matrix_u -= 0.0001 * partial_u\n",
    "    matrix_v -= 0.0001 * partial_v\n",
    "    loss = 0.5*np.sum(np.square(np.where(y==0, 0, y_hypothesis - y)))\n",
    "    loss_val.append(loss)\n",
    "    loss_test.append(0.5 * np.sum(np.square(np.where(df_test_data != 0, df_test_data.values-y_hypothesis, 0))))"
   ]
  },
  {
   "cell_type": "code",
   "execution_count": 71,
   "metadata": {},
   "outputs": [
    {
     "data": {
      "text/plain": [
       "<matplotlib.axes._subplots.AxesSubplot at 0x14dc1b90da0>"
      ]
     },
     "execution_count": 71,
     "metadata": {},
     "output_type": "execute_result"
    },
    {
     "data": {
      "image/png": "[encoded data removed]",
      "text/plain": [
       "<Figure size 432x288 with 1 Axes>"
      ]
     },
     "metadata": {},
     "output_type": "display_data"
    }
   ],
   "source": [
    "df_data = pd.DataFrame()\n",
    "df_data['train'] = loss_val\n",
    "df_data['test'] = loss_test\n",
    "df_data.plot()"
   ]
  },
  {
   "cell_type": "code",
   "execution_count": 70,
   "metadata": {},
   "outputs": [
    {
     "data": {
      "text/plain": [
       "[<matplotlib.lines.Line2D at 0x14dc1b58828>]"
      ]
     },
     "execution_count": 70,
     "metadata": {},
     "output_type": "execute_result"
    },
    {
     "data": {
      "image/png": "[encoded data removed]",
      "text/plain": [
       "<Figure size 432x288 with 1 Axes>"
      ]
     },
     "metadata": {},
     "output_type": "display_data"
    }
   ],
   "source": [
    "plt.plot(loss_val)\n",
    "plt.plot(loss_test)"
   ]
  },
  {
   "cell_type": "code",
   "execution_count": 35,
   "metadata": {},
   "outputs": [
    {
     "data": {
      "text/plain": [
       "array([[0.        , 0.        , 0.        , ..., 3.27494376, 3.53407166,\n",
       "        3.79756835],\n",
       "       [0.        , 3.41515187, 3.10761459, ..., 3.29018626, 3.55052021,\n",
       "        3.81524329],\n",
       "       [3.11516622, 2.66691463, 2.42675673, ..., 2.56932816, 2.77262466,\n",
       "        2.97934866],\n",
       "       ...,\n",
       "       [0.        , 3.75119824, 3.4133997 , ..., 3.61393618, 3.89988664,\n",
       "        4.19065812],\n",
       "       [4.30445022, 3.68506861, 3.3532251 , ..., 3.55022634, 3.83113579,\n",
       "        4.11678128],\n",
       "       [3.8762131 , 0.        , 3.01962258, ..., 3.19702474, 3.44998734,\n",
       "        3.7072148 ]])"
      ]
     },
     "execution_count": 35,
     "metadata": {},
     "output_type": "execute_result"
    }
   ],
   "source": [
    "y_hypothesis = np.matmul(matrix_u, matrix_v.transpose())\n",
    "np.where(y==0, y_hypothesis, 0)"
   ]
  },
  {
   "cell_type": "code",
   "execution_count": null,
   "metadata": {},
   "outputs": [],
   "source": []
  },
  {
   "cell_type": "code",
   "execution_count": null,
   "metadata": {},
   "outputs": [],
   "source": []
  },
  {
   "cell_type": "code",
   "execution_count": null,
   "metadata": {},
   "outputs": [],
   "source": [
    "y_hypothesis"
   ]
  },
  {
   "cell_type": "code",
   "execution_count": null,
   "metadata": {},
   "outputs": [],
   "source": [
    "np.sum(np.where(df_test_data!=0, 1, 0))"
   ]
  },
  {
   "cell_type": "code",
   "execution_count": null,
   "metadata": {},
   "outputs": [],
   "source": [
    "np.sum((np.where(df_test_data != 0, np.square(df_test_data.values-y_hypothesis), 0))) / 25000"
   ]
  },
  {
   "cell_type": "code",
   "execution_count": null,
   "metadata": {},
   "outputs": [],
   "source": [
    "np.where(df_test_data != 0,y_hypothesis, y_hypothesis)"
   ]
  },
  {
   "cell_type": "code",
   "execution_count": null,
   "metadata": {},
   "outputs": [],
   "source": [
    "pd.DataFrame(y_hypothesis)"
   ]
  },
  {
   "cell_type": "code",
   "execution_count": null,
   "metadata": {},
   "outputs": [],
   "source": []
  }
 ],
 "metadata": {
  "kernelspec": {
   "display_name": "Python [conda env:Anaconda3]",
   "language": "python",
   "name": "conda-env-Anaconda3-py"
  },
  "language_info": {
   "codemirror_mode": {
    "name": "ipython",
    "version": 3
   },
   "file_extension": ".py",
   "mimetype": "text/x-python",
   "name": "python",
   "nbconvert_exporter": "python",
   "pygments_lexer": "ipython3",
   "version": "3.6.5"
  }
 },
 "nbformat": 4,
 "nbformat_minor": 2
}
