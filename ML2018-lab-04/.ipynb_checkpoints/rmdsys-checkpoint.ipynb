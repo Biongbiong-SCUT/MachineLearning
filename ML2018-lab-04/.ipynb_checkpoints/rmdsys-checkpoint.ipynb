{
 "cells": [
  {
   "cell_type": "code",
   "execution_count": 1,
   "metadata": {},
   "outputs": [],
   "source": [
    "import pandas as pd\n",
    "import numpy as np\n",
    "import matplotlib.pyplot as plt\n",
    "import os\n",
    "from sklearn.model_selection import train_test_split"
   ]
  },
  {
   "cell_type": "code",
   "execution_count": 2,
   "metadata": {},
   "outputs": [],
   "source": [
    "dir_path = './ml-100k/'\n",
    "df_user = pd.read_csv(dir_path+'u.user', sep='|', names=['user_id' ,'age' , 'gender' , 'occupation', 'zip_code'])\n",
    "df_item = pd.read_csv(dir_path+'u.item', sep='|', names=['movie id','movie title', 'release date', 'video release date',\n",
    "              'IMDb URL', 'unknown', 'Action', 'Adventure', 'Animation',\n",
    "              'Children\\'s', 'Comedy', 'Crime', 'Documentary', 'Drama','Fantasy',\n",
    "              'Film-Noir', 'Horror', 'Musical', 'Mystery', 'Romance', 'Sci-Fi', 'Thriller', 'War','Western'], encoding='latin-1')\n",
    "header = ['user_id', 'item_id', 'rating', 'timestamp']\n",
    "df_data = pd.read_csv(dir_path+'u.data', sep='\\t', names=header)\n",
    "df_train, df_test = train_test_split(df_data, test_size=0.25, random_state=2018)"
   ]
  },
  {
   "cell_type": "code",
   "execution_count": 8,
   "metadata": {},
   "outputs": [],
   "source": [
    "df_train_data = df_train.set_index(['user_id','item_id'])['rating'].unstack().fillna(0)\n",
    "df_test_data = df_test.set_index(['user_id','item_id'])['rating'].unstack().fillna(0)"
   ]
  },
  {
   "cell_type": "code",
   "execution_count": 14,
   "metadata": {},
   "outputs": [],
   "source": [
    "df_score = df_data.set_index(['user_id','item_id'])['rating'].unstack().fillna(0)"
   ]
  },
  {
   "cell_type": "code",
   "execution_count": 21,
   "metadata": {},
   "outputs": [
    {
     "data": {
      "text/plain": [
       "5.0"
      ]
     },
     "execution_count": 21,
     "metadata": {},
     "output_type": "execute_result"
    }
   ],
   "source": [
    "df_score.loc[1, 1]"
   ]
  },
  {
   "cell_type": "code",
   "execution_count": null,
   "metadata": {},
   "outputs": [],
   "source": [
    "import random\n",
    "def get_batch(token, batch_size):\n",
    "    index = random.sample(range(len(token)),batch_size)\n",
    "    return token[index]\n",
    "    "
   ]
  },
  {
   "cell_type": "code",
   "execution_count": 22,
   "metadata": {},
   "outputs": [],
   "source": [
    "def svdCostAndGradient(userVector,itemVector, score):\n",
    "    predicted = userVector.dot(itemVector.T)\n",
    "    cost = 0.5 * np.sqrt(np.square(score - predicted))\n",
    "    delta = score - predicted\n",
    "    gradUser = delta.dot(itemVector.flatten()) # (K,1)\n",
    "    gradItem = delta.dot(userVector.flatten())\n",
    "    return cost, gradPred, grad"
   ]
  },
  {
   "cell_type": "code",
   "execution_count": null,
   "metadata": {},
   "outputs": [],
   "source": [
    "def svdModel(userMatrix, itemMatrix, scoreMatrix, tokens, batchsize=1):\n",
    "    U, V = socreMatrix.shape\n",
    "    # initialize\n",
    "    gradUser = np.zeros(userMatrix.shape)\n",
    "    gradItem = np.zeros(itemMatrix.shape)\n",
    "    cost = 0.0\n",
    "    \n",
    "    batch = get_batch(tokens, batch_size)\n",
    "    for sample in batch:\n",
    "        i, j = sample[0], sample[1]\n",
    "        uvec = userMatrix[i, :]\n",
    "        ivec = itemMatrix[j, :]\n",
    "        score = scoreMatrix[i, j]\n",
    "        cc,gu,gi = svdCostAndGradient(uvec, ivec, score)\n",
    "        gradUser[i] += gu\n",
    "        gradItem[i] += gi\n",
    "        cost += cc\n",
    "        \n",
    "    return cost, gradUser, gradItem"
   ]
  }
 ],
 "metadata": {
  "kernelspec": {
   "display_name": "Python [conda env:Anaconda3]",
   "language": "python",
   "name": "conda-env-Anaconda3-py"
  },
  "language_info": {
   "codemirror_mode": {
    "name": "ipython",
    "version": 3
   },
   "file_extension": ".py",
   "mimetype": "text/x-python",
   "name": "python",
   "nbconvert_exporter": "python",
   "pygments_lexer": "ipython3",
   "version": "3.6.5"
  }
 },
 "nbformat": 4,
 "nbformat_minor": 2
}
